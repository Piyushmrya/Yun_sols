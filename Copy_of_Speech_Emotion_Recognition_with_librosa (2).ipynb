{
  "nbformat": 4,
  "nbformat_minor": 0,
  "metadata": {
    "colab": {
      "provenance": [],
      "private_outputs": true
    },
    "kernelspec": {
      "name": "python3",
      "display_name": "Python 3"
    },
    "language_info": {
      "name": "python"
    },
    "gpuClass": "standard"
  },
  "cells": [
    {
      "cell_type": "markdown",
      "metadata": {
        "id": "wd1zknE2IRew"
      },
      "source": [
        "\n",
        "[Dataset](https://drive.google.com/file/d/1wWsrN2Ep7x6lWqOXfr4rpKGYrJhWc8z7/view)"
      ]
    },
    {
      "cell_type": "code",
      "source": [
        "from google.colab import drive\n",
        "drive.mount('/content/drive')"
      ],
      "metadata": {
        "id": "qNRqwMh24nas"
      },
      "execution_count": null,
      "outputs": []
    },
    {
      "cell_type": "code",
      "metadata": {
        "id": "4CKPHhxqoeid"
      },
      "source": [
        "import os\n",
        "Root = \"/content/drive/MyDrive/speech-emotion-recognition-ravdess-data\"\n",
        "os.chdir(Root)"
      ],
      "execution_count": null,
      "outputs": []
    },
    {
      "cell_type": "code",
      "source": [
        "from google.colab import drive\n",
        "drive.mount('/content/drive')"
      ],
      "metadata": {
        "id": "p8CfX0JIkgt6"
      },
      "execution_count": null,
      "outputs": []
    },
    {
      "cell_type": "code",
      "metadata": {
        "id": "CHlkrPZPpXlI"
      },
      "source": [
        "ls"
      ],
      "execution_count": null,
      "outputs": []
    },
    {
      "cell_type": "code",
      "metadata": {
        "id": "_IehQoF0pZxl"
      },
      "source": [
        "import librosa\n",
        "import soundfile\n",
        "import os, glob, pickle\n",
        "import numpy as np\n",
        "import pandas as pd\n",
        "import matplotlib.pyplot as plt\n",
        "from sklearn.model_selection import train_test_split\n",
        "from sklearn.neural_network import MLPClassifier\n",
        "from sklearn.metrics import accuracy_score"
      ],
      "execution_count": null,
      "outputs": []
    },
    {
      "cell_type": "code",
      "metadata": {
        "id": "cOrKu9Cnphen"
      },
      "source": [
        "def extract_feature(file_name, mfcc, chroma, mel):\n",
        "    with soundfile.SoundFile(file_name) as sound_file:\n",
        "        X = np.array(sound_file.read(dtype=\"float32\"))\n",
        "        sample_rate = sound_file.samplerate\n",
        "        if chroma:\n",
        "            stft = np.abs(librosa.stft(X))\n",
        "        result = np.array([])\n",
        "        if mfcc:\n",
        "            mfccs = np.mean(librosa.feature.mfcc(y=X, sr=sample_rate, n_mfcc=40).T, axis=0)\n",
        "            result = np.hstack((result, mfccs))\n",
        "        if chroma:\n",
        "            chroma = np.mean(librosa.feature.chroma_stft(S=stft, sr=sample_rate).T, axis=0)\n",
        "            result = np.hstack((result, chroma))\n",
        "        if mel:\n",
        "            mel = np.mean(librosa.feature.melspectrogram(y=X, sr=sample_rate).T, axis=0)\n",
        "            result = np.hstack((result, mel))\n",
        "    return result\n"
      ],
      "execution_count": null,
      "outputs": []
    },
    {
      "cell_type": "code",
      "metadata": {
        "id": "ljV0QLcXpmRP"
      },
      "source": [
        "# Emotions in the RAVDESS dataset\n",
        "emotions={\n",
        "  '01':'neutral',\n",
        "  '02':'calm',\n",
        "  '03':'happy',\n",
        "  '04':'sad',\n",
        "  '05':'angry',\n",
        "  '06':'fearful',\n",
        "  '07':'disgust',\n",
        "  '08':'surprised'\n",
        "}\n",
        "\n",
        "#Emotions to observe\n",
        "observed_emotions=['neutral','happy', 'angry', 'sad']"
      ],
      "execution_count": null,
      "outputs": []
    },
    {
      "cell_type": "code",
      "metadata": {
        "id": "O46uIg3kpzrG"
      },
      "source": [
        "def load_data(test_size=0.2):\n",
        "    x, y = [], []\n",
        "    for file in glob.glob(\"/content/drive/MyDrive/speech-emotion-recognition-ravdess-data/Actor_*/*.wav\"):\n",
        "        file_name = os.path.basename(file)\n",
        "        emotion = emotions[file_name.split(\"-\")[2]]\n",
        "        if emotion not in observed_emotions:\n",
        "            continue\n",
        "        X, sample_rate = librosa.load(file)\n",
        "        feature = extract_feature(file, mfcc=True, chroma=True, mel=True)\n",
        "        pitch = librosa.yin(X, fmin=75, fmax=300)\n",
        "        spectrogram = np.abs(librosa.stft(X))\n",
        "        energy = np.mean(librosa.feature.rms(S=spectrogram), axis=0)\n",
        "        combined_feature = np.concatenate((feature, [pitch.mean()], [energy.mean()]))\n",
        "        x.append(combined_feature)\n",
        "        y.append(emotion)\n",
        "\n",
        "    x = np.array(x)\n",
        "    return train_test_split(x, y, test_size=test_size, random_state=9)\n"
      ],
      "execution_count": null,
      "outputs": []
    },
    {
      "cell_type": "code",
      "metadata": {
        "id": "gE_MSQYDqPqg"
      },
      "source": [
        "#Split the dataset\n",
        "x_train,x_test,y_train,y_test=load_data(test_size=0.25)"
      ],
      "execution_count": null,
      "outputs": []
    },
    {
      "cell_type": "code",
      "metadata": {
        "id": "Fo872mW8urUM"
      },
      "source": [
        "# x_train"
      ],
      "execution_count": null,
      "outputs": []
    },
    {
      "cell_type": "code",
      "metadata": {
        "id": "cNIOCRQ6qWOq"
      },
      "source": [
        "#Get the shape of the training and testing datasets\n",
        "print((x_train.shape[0], x_test.shape[0]))"
      ],
      "execution_count": null,
      "outputs": []
    },
    {
      "cell_type": "code",
      "metadata": {
        "id": "XqoLMHgsqcP8"
      },
      "source": [
        "#Get the number of features extracted\n",
        "print(f'Features extracted: {x_train.shape[0]}')"
      ],
      "execution_count": null,
      "outputs": []
    },
    {
      "cell_type": "code",
      "metadata": {
        "id": "bQsjvZiwqcTN"
      },
      "source": [
        "from sklearn.neural_network import MLPClassifier\n",
        "from sklearn.model_selection import GridSearchCV\n",
        "\n",
        "# Define the MLPClassifier with default hyperparameters\n",
        "model = MLPClassifier()\n",
        "\n",
        "# Define the parameter grid to search over\n",
        "param_grid = {\n",
        "    'hidden_layer_sizes': [(100,), (200,), (300,)],\n",
        "    'alpha': [0.001, 0.01, 0.1],\n",
        "    'learning_rate': ['constant', 'adaptive'],\n",
        "    'max_iter': [200, 500, 1000]\n",
        "}\n",
        "\n",
        "# Perform GridSearchCV\n",
        "grid_search = GridSearchCV(estimator=model, param_grid=param_grid, cv=3, n_jobs=-1)\n",
        "grid_search.fit(x_train, y_train)\n",
        "\n",
        "# Use the best model for prediction\n",
        "model = grid_search.best_estimator_"
      ],
      "execution_count": null,
      "outputs": []
    },
    {
      "cell_type": "code",
      "source": [
        "x_train.shape"
      ],
      "metadata": {
        "id": "MBOAb-m6LRXF"
      },
      "execution_count": null,
      "outputs": []
    },
    {
      "cell_type": "code",
      "source": [
        "np.array(y_train).shape"
      ],
      "metadata": {
        "id": "GBBCjJMkLVvv"
      },
      "execution_count": null,
      "outputs": []
    },
    {
      "cell_type": "code",
      "metadata": {
        "id": "tmZiXDHPqcV5"
      },
      "source": [
        "#Train the model\n",
        "model.fit(x_train,y_train)"
      ],
      "execution_count": null,
      "outputs": []
    },
    {
      "cell_type": "code",
      "metadata": {
        "id": "lumz8vRQqcYs"
      },
      "source": [
        "#Predict for the test set\n",
        "y_pred=model.predict(x_test)"
      ],
      "execution_count": null,
      "outputs": []
    },
    {
      "cell_type": "code",
      "metadata": {
        "id": "m604kmiFtxLP"
      },
      "source": [
        "y_pred"
      ],
      "execution_count": null,
      "outputs": []
    },
    {
      "cell_type": "code",
      "metadata": {
        "id": "IrCVcauwqkFs"
      },
      "source": [
        "#Calculate the accuracy of our model\n",
        "accuracy=accuracy_score(y_true=y_test, y_pred=y_pred)\n",
        "\n",
        "#Print the accuracy\n",
        "print(\"Accuracy: {:.2f}%\".format(accuracy*100))"
      ],
      "execution_count": null,
      "outputs": []
    },
    {
      "cell_type": "code",
      "metadata": {
        "id": "vJ8_B3O0qkJG"
      },
      "source": [
        "from sklearn.metrics import accuracy_score, f1_score"
      ],
      "execution_count": null,
      "outputs": []
    },
    {
      "cell_type": "code",
      "metadata": {
        "id": "_Ry4if_sqkLr"
      },
      "source": [
        "f1_score(y_test, y_pred,average=None)"
      ],
      "execution_count": null,
      "outputs": []
    },
    {
      "cell_type": "code",
      "metadata": {
        "id": "0Rt9YfZkCO5A"
      },
      "source": [
        "import pandas as pd\n",
        "df=pd.DataFrame({'Actual': y_test, 'Predicted':y_pred})\n",
        "df.head(2)"
      ],
      "execution_count": null,
      "outputs": []
    },
    {
      "cell_type": "code",
      "source": [
        "import joblib\n",
        "joblib.dump(model, '/content/drive/MyDrive/model1.pkl')"
      ],
      "metadata": {
        "id": "i52OtLXgKejp"
      },
      "execution_count": null,
      "outputs": []
    },
    {
      "cell_type": "code",
      "source": [
        "# Example usage\n",
        "# Load the trained model\n",
        "\n",
        "model = joblib.load('/content/drive/MyDrive/model1.pkl')\n",
        "\n",
        "#You can put your file and test it here .\n",
        "\n",
        "input_file = '/content/drive/MyDrive/ONE.mp3'"
      ],
      "metadata": {
        "id": "QR_bNBhySNyg"
      },
      "execution_count": null,
      "outputs": []
    },
    {
      "cell_type": "code",
      "source": [
        "model = joblib.load('/content/drive/MyDrive/model1.pkl')\n",
        "\n",
        "#You can put your file and test it here .\n",
        "\n",
        "input_file = '/content/drive/MyDrive/angry.mp3'"
      ],
      "metadata": {
        "id": "da5mNi3Erujs"
      },
      "execution_count": null,
      "outputs": []
    },
    {
      "cell_type": "code",
      "source": [
        "len(input_file)"
      ],
      "metadata": {
        "id": "yzO3eQoe7ecK"
      },
      "execution_count": null,
      "outputs": []
    },
    {
      "cell_type": "code",
      "source": [
        "def extract_features2(file_name, sr):\n",
        "    # with soundfile.SoundFile(file_name) as sound_file:\n",
        "  X = np.array(file_name)\n",
        "  sample_rate = sr\n",
        "  stft = np.abs(librosa.stft(X))\n",
        "  result = np.array([])\n",
        "  mfccs = np.mean(librosa.feature.mfcc(y=X, sr=sample_rate, n_mfcc=40).T, axis=0)\n",
        "  result = np.hstack((result, mfccs))\n",
        "  chroma = np.mean(librosa.feature.chroma_stft(S=stft, sr=sample_rate).T, axis=0)\n",
        "  result = np.hstack((result, chroma))\n",
        "  mel = np.mean(librosa.feature.melspectrogram(y=X, sr=sample_rate).T, axis=0)\n",
        "  result = np.hstack((result, mel))\n",
        "  return result\n"
      ],
      "metadata": {
        "id": "Y4BWd33zKSBk"
      },
      "execution_count": null,
      "outputs": []
    },
    {
      "cell_type": "code",
      "source": [
        "import librosa\n",
        "import numpy as np\n",
        "\n",
        "# Define chunk size (e.g., 3 seconds)\n",
        "chunk_size = 3\n",
        "\n",
        "# Load the audio file\n",
        "audio, sr = librosa.load(input_file, sr=None)\n",
        "\n",
        "# Calculate the number of samples in each chunk\n",
        "chunk_samples = int(sr*chunk_size)\n",
        "\n",
        "# Process the audio file in chunks\n",
        "emotion_results = []\n",
        "for i in range(0, len(audio), chunk_samples):\n",
        "    chunk = audio[i:i+chunk_samples]\n",
        "    # Perform feature extraction on the chunk\n",
        "    feature = extract_features2(chunk, sr)  # Pass the chunk and the sample rate\n",
        "    \n",
        "    # Calculate pitch, spectrogram, and energy for the chunk\n",
        "    pitch = librosa.yin(chunk, fmin=75, fmax=300)\n",
        "    spectrogram = np.abs(librosa.stft(chunk))\n",
        "    energy = np.mean(librosa.feature.rms(S=spectrogram), axis=0)\n",
        "    \n",
        "    # Combine the features for the chunk\n",
        "    combined_feature = np.concatenate((feature, [pitch.mean()], [energy.mean()]))\n",
        "    \n",
        "    # Make predictions for the chunk\n",
        "    x = np.array([combined_feature])\n",
        "    y_pred = model.predict(x)\n",
        "    \n",
        "    # Store the emotion result for the chunk\n",
        "    emotion_results.append(y_pred)\n",
        "\n",
        "# Print the emotion results for each chunk\n",
        "for i, emotion in enumerate(emotion_results):\n",
        "    print(f\"Chunk {i+1} - Predicted Emotion: {emotion}\")\n"
      ],
      "metadata": {
        "id": "B1BFcDqTsdLw"
      },
      "execution_count": null,
      "outputs": []
    },
    {
      "cell_type": "code",
      "source": [
        "import matplotlib.pyplot as plt\n",
        "\n",
        "# Extract the predicted emotions from the results\n",
        "emotions = [emotion[0] for emotion in emotion_results]\n",
        "\n",
        "# Create x-axis values representing the chunk indices\n",
        "x = np.arange(1, len(emotions) + 1)\n",
        "\n",
        "# Plot the emotions\n",
        "plt.plot(x, emotions)\n",
        "plt.xlabel('Chunk')\n",
        "plt.ylabel('Emotion')\n",
        "plt.title('Emotional Changes Throughout the Audio')\n",
        "plt.show()\n"
      ],
      "metadata": {
        "id": "YVqwDVSYPOdM"
      },
      "execution_count": null,
      "outputs": []
    },
    {
      "cell_type": "code",
      "source": [],
      "metadata": {
        "id": "XWIijbwJu9LQ"
      },
      "execution_count": null,
      "outputs": []
    }
  ]
}